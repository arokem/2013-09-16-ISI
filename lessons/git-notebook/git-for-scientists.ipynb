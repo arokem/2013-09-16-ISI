{
 "metadata": {
  "name": ""
 },
 "nbformat": 3,
 "nbformat_minor": 0,
 "worksheets": [
  {
   "cells": [
    {
     "cell_type": "markdown",
     "metadata": {
      "slideshow": {
       "slide_type": "skip"
      }
     },
     "source": [
      "With help from Fernando Perez, Karthik Ram, Matthew Brett and illustrations from Scott Chacon's pro-git book"
     ]
    },
    {
     "cell_type": "markdown",
     "metadata": {
      "slideshow": {
       "slide_type": "slide"
      }
     },
     "source": [
      "# Git for scientists "
     ]
    },
    {
     "cell_type": "markdown",
     "metadata": {
      "slideshow": {
       "slide_type": "slide"
      }
     },
     "source": [
      "## Who uses a version control system?"
     ]
    },
    {
     "cell_type": "markdown",
     "metadata": {
      "slideshow": {
       "slide_type": "fragment"
      }
     },
     "source": [
      "## We all do"
     ]
    },
    {
     "cell_type": "markdown",
     "metadata": {
      "slideshow": {
       "slide_type": "slide"
      }
     },
     "source": [
      "<img src=\"https://raw.github.com/karthikram/git_intro/master/img/vcs_for_science.png\" width=\"50%\">"
     ]
    },
    {
     "cell_type": "markdown",
     "metadata": {
      "slideshow": {
       "slide_type": "slide"
      }
     },
     "source": [
      "### Using a proper version control system promotes: \n"
     ]
    },
    {
     "cell_type": "markdown",
     "metadata": {
      "slideshow": {
       "slide_type": "fragment"
      }
     },
     "source": [
      "- Reproducibility : logging of every step"
     ]
    },
    {
     "cell_type": "markdown",
     "metadata": {
      "slideshow": {
       "slide_type": "fragment"
      }
     },
     "source": [
      "- Peace of mind : a robust backup system \n"
     ]
    },
    {
     "cell_type": "markdown",
     "metadata": {
      "slideshow": {
       "slide_type": "fragment"
      }
     },
     "source": [
      "- Flexibility : zero-cost branching\n"
     ]
    },
    {
     "cell_type": "markdown",
     "metadata": {
      "slideshow": {
       "slide_type": "fragment"
      }
     },
     "source": [
      "- Collaboration : synchronization across multiple computers/people"
     ]
    },
    {
     "cell_type": "markdown",
     "metadata": {
      "slideshow": {
       "slide_type": "slide"
      }
     },
     "source": [
      "## This is preferable to a system like Dropbox, because it gives you fine-grained control over *what* and *when* you want to version "
     ]
    },
    {
     "cell_type": "markdown",
     "metadata": {
      "slideshow": {
       "slide_type": "slide"
      }
     },
     "source": [
      "<img src=\"http://git-scm.com/figures/18333fig0105-tn.png\" width=\"50%\">"
     ]
    },
    {
     "cell_type": "markdown",
     "metadata": {
      "slideshow": {
       "slide_type": "slide"
      }
     },
     "source": [
      "### You can use version control for:"
     ]
    },
    {
     "cell_type": "markdown",
     "metadata": {
      "slideshow": {
       "slide_type": "fragment"
      }
     },
     "source": [
      "- Documents: papers/grants"
     ]
    },
    {
     "cell_type": "markdown",
     "metadata": {
      "slideshow": {
       "slide_type": "fragment"
      }
     },
     "source": [
      "- Analysis code "
     ]
    },
    {
     "cell_type": "markdown",
     "metadata": {
      "slideshow": {
       "slide_type": "fragment"
      }
     },
     "source": [
      "- Tabular and text data"
     ]
    },
    {
     "cell_type": "markdown",
     "metadata": {
      "slideshow": {
       "slide_type": "fragment"
      }
     },
     "source": [
      "- Teaching"
     ]
    },
    {
     "cell_type": "markdown",
     "metadata": {
      "slideshow": {
       "slide_type": "slide"
      }
     },
     "source": [
      "## Introducing `git`\n"
     ]
    },
    {
     "cell_type": "markdown",
     "metadata": {
      "slideshow": {
       "slide_type": "fragment"
      }
     },
     "source": [
      "Try typing `git` at the terminal"
     ]
    },
    {
     "cell_type": "markdown",
     "metadata": {
      "slideshow": {
       "slide_type": "fragment"
      }
     },
     "source": [
      "The first time you start to use git, you will need to configure your author information:\n",
      "\n",
      "    $ git config --global user.name 'Ariel Rokem'\n",
      "\n",
      "    \n",
      "    $ git config --global user.email arokem@stanford.edu\n"
     ]
    },
    {
     "cell_type": "markdown",
     "metadata": {
      "slideshow": {
       "slide_type": "fragment"
      }
     },
     "source": [
      "You will want to make sure that your editor is configured: \n",
      "\n",
      "    $ git config --global core.editor nano  # Mac/Linux\n",
      "    \n",
      "    $ git config --global core.editor \"'C:/Program Files (x86)/Notepad++/notepad++.exe' -multiInst -notabbar -nosession -noPlugin\" # Windows\n",
      "\n",
      "TextWrangler, SublimeText and TextMate are not good editors for this. If you know how to use vi, you can use that"
     ]
    },
    {
     "cell_type": "markdown",
     "metadata": {
      "slideshow": {
       "slide_type": "slide"
      }
     },
     "source": [
      "While we're at it, let's configure it to use colors, which is helpful:\n",
      "\n",
      "    $ git config --global color.ui \"auto\"\n",
      "\n"
     ]
    },
    {
     "cell_type": "markdown",
     "metadata": {
      "slideshow": {
       "slide_type": "slide"
      }
     },
     "source": [
      "To see all the items in your configuration:\n",
      "    \n",
      "    $ git config --global --list\n",
      "    \n",
      "    "
     ]
    },
    {
     "cell_type": "markdown",
     "metadata": {
      "slideshow": {
       "slide_type": "slide"
      }
     },
     "source": [
      "Git keeps snap-shots of your work over time"
     ]
    },
    {
     "cell_type": "markdown",
     "metadata": {
      "slideshow": {
       "slide_type": "fragment"
      }
     },
     "source": [
      "<img src=\"http://git-scm.com/figures/18333fig0105-tn.png\" width=\"50%\">"
     ]
    },
    {
     "cell_type": "markdown",
     "metadata": {
      "slideshow": {
       "slide_type": "slide"
      }
     },
     "source": [
      "Five levels of git usage: "
     ]
    },
    {
     "cell_type": "markdown",
     "metadata": {
      "slideshow": {
       "slide_type": "fragment"
      }
     },
     "source": [
      "- Local - linear"
     ]
    },
    {
     "cell_type": "markdown",
     "metadata": {
      "slideshow": {
       "slide_type": "fragment"
      }
     },
     "source": [
      "- Local - branching"
     ]
    },
    {
     "cell_type": "markdown",
     "metadata": {
      "slideshow": {
       "slide_type": "fragment"
      }
     },
     "source": [
      "- Remote - single user"
     ]
    },
    {
     "cell_type": "markdown",
     "metadata": {
      "slideshow": {
       "slide_type": "fragment"
      }
     },
     "source": [
      "- Remote - small team"
     ]
    },
    {
     "cell_type": "markdown",
     "metadata": {
      "slideshow": {
       "slide_type": "fragment"
      }
     },
     "source": [
      "- Remote - collaboration"
     ]
    },
    {
     "cell_type": "markdown",
     "metadata": {
      "slideshow": {
       "slide_type": "slide"
      }
     },
     "source": [
      "# Local and linear use"
     ]
    },
    {
     "cell_type": "markdown",
     "metadata": {
      "slideshow": {
       "slide_type": "fragment"
      }
     },
     "source": [
      "<img src=\"http://git-scm.com/figures/18333fig0105-tn.png\" width=\"50%\">"
     ]
    },
    {
     "cell_type": "markdown",
     "metadata": {
      "slideshow": {
       "slide_type": "slide"
      }
     },
     "source": [
      "Make a directory"
     ]
    },
    {
     "cell_type": "markdown",
     "metadata": {
      "slideshow": {
       "slide_type": "fragment"
      }
     },
     "source": [
      "    $ mkdir science\n",
      "\n",
      "    $ cd science\n",
      "\n"
     ]
    },
    {
     "cell_type": "markdown",
     "metadata": {
      "slideshow": {
       "slide_type": "fragment"
      }
     },
     "source": [
      "Initialize a git **repository**, a set of files and directories that are associated with each other and tracked together"
     ]
    },
    {
     "cell_type": "markdown",
     "metadata": {
      "slideshow": {
       "slide_type": "fragment"
      }
     },
     "source": [
      "    $ git init\n",
      "\n",
      "or \n",
      "\n",
      "    $ git init science\n",
      "    \n",
      "    "
     ]
    },
    {
     "cell_type": "markdown",
     "metadata": {
      "slideshow": {
       "slide_type": "slide"
      }
     },
     "source": [
      "What is in here? "
     ]
    },
    {
     "cell_type": "markdown",
     "metadata": {
      "slideshow": {
       "slide_type": "fragment"
      }
     },
     "source": [
      "    \n",
      "    $ ls -a\n",
      "    \n",
      "    "
     ]
    },
    {
     "cell_type": "markdown",
     "metadata": {
      "slideshow": {
       "slide_type": "fragment"
      }
     },
     "source": [
      "    ./    ../   .git/"
     ]
    },
    {
     "cell_type": "markdown",
     "metadata": {
      "slideshow": {
       "slide_type": "fragment"
      }
     },
     "source": [
      "The repository stores its information in the `.git` directory."
     ]
    },
    {
     "cell_type": "markdown",
     "metadata": {
      "slideshow": {
       "slide_type": "slide"
      }
     },
     "source": [
      "To check what is going on\n",
      "\n",
      "    $ git status\n",
      "    \n",
      "    "
     ]
    },
    {
     "cell_type": "markdown",
     "metadata": {
      "slideshow": {
       "slide_type": "fragment"
      }
     },
     "source": [
      "    # On branch master\n",
      "    #\n",
      "    # Initial commit\n",
      "    #\n",
      "    nothing to commit (create/copy files and use \"git add\" to track)\n",
      "    \n",
      "    "
     ]
    },
    {
     "cell_type": "markdown",
     "metadata": {
      "slideshow": {
       "slide_type": "slide"
      }
     },
     "source": [
      "Let's make a file with some text:\n",
      "\n"
     ]
    },
    {
     "cell_type": "markdown",
     "metadata": {
      "slideshow": {
       "slide_type": "fragment"
      }
     },
     "source": [
      "    $ echo \"Cogito ergo sum\" > cogito.txt\n",
      "    \n",
      "    "
     ]
    },
    {
     "cell_type": "markdown",
     "metadata": {
      "slideshow": {
       "slide_type": "fragment"
      }
     },
     "source": [
      "    $ git status\n",
      "\n",
      "        # On branch master\n",
      "        #\n",
      "        # Initial commit\n",
      "        #\n",
      "        # Untracked files:\n",
      "        #   (use \"git add <file>...\" to include in what will be committed)\n",
      "        #\n",
      "        #\tcogito.txt\n",
      "        nothing added to commit but untracked files present (use \"git add\" to track)\n",
      "        \n",
      "        "
     ]
    },
    {
     "cell_type": "markdown",
     "metadata": {
      "slideshow": {
       "slide_type": "fragment"
      }
     },
     "source": [
      "Files need to be explicitely added to the repository to be tracked by git:  \n",
      "\n"
     ]
    },
    {
     "cell_type": "markdown",
     "metadata": {
      "slideshow": {
       "slide_type": "fragment"
      }
     },
     "source": [
      "    $ git add cogito.txt\n",
      "\n"
     ]
    },
    {
     "cell_type": "markdown",
     "metadata": {
      "slideshow": {
       "slide_type": "fragment"
      }
     },
     "source": [
      "    $ git status\n",
      "    \n",
      "        # On branch master\n",
      "        #\n",
      "        # Initial commit\n",
      "        #\n",
      "        # Changes to be committed:\n",
      "        #   (use \"git rm --cached <file>...\" to unstage)\n",
      "        #\n",
      "        #\tnew file:   cogito.txt\n",
      "        #\n",
      "\n"
     ]
    },
    {
     "cell_type": "markdown",
     "metadata": {
      "slideshow": {
       "slide_type": "slide"
      }
     },
     "source": [
      "This might be a good point to save a snap-shot of the current state of our repository\n"
     ]
    },
    {
     "cell_type": "markdown",
     "metadata": {
      "slideshow": {
       "slide_type": "fragment"
      }
     },
     "source": [
      "Type: \n",
      "\n",
      "    $ git commit\n",
      "    \n",
      "    "
     ]
    },
    {
     "cell_type": "markdown",
     "metadata": {
      "slideshow": {
       "slide_type": "fragment"
      }
     },
     "source": [
      "This should open a text editor with the following content:\n",
      "\n"
     ]
    },
    {
     "cell_type": "markdown",
     "metadata": {
      "slideshow": {
       "slide_type": "fragment"
      }
     },
     "source": [
      "    # Please enter the commit message for your changes. Lines starting\n",
      "    # with '#' will be ignored, and an empty message aborts the commit.\n",
      "    #\n",
      "    # Author:    arokem <arokem@gmail.com>\n",
      "    #\n",
      "    # On branch master\n",
      "    #\n",
      "    # Initial commit\n",
      "    #\n",
      "    # Changes to be committed:\n",
      "    #   (use \"git rm --cached <file>...\" to unstage)\n",
      "    #\n",
      "    #       new file:   cogito.txt\n",
      "    #\n",
      "\n"
     ]
    },
    {
     "cell_type": "markdown",
     "metadata": {
      "slideshow": {
       "slide_type": "slide"
      }
     },
     "source": [
      "Enter an informative **commit message** above this:\n"
     ]
    },
    {
     "cell_type": "markdown",
     "metadata": {
      "slideshow": {
       "slide_type": "fragment"
      }
     },
     "source": [
      "    Initial commit of the cogito.\n",
      "    # Please enter the commit message for your changes. Lines starting\n",
      "    # with '#' will be ignored, and an empty message aborts the commit.\n",
      "    #\n",
      "    # Author:    arokem <arokem@gmail.com>\n",
      "    #\n",
      "    # On branch master\n",
      "    #\n",
      "    # Initial commit\n",
      "    #\n",
      "    # Changes to be committed:\n",
      "    #   (use \"git rm --cached <file>...\" to unstage)\n",
      "    #\n",
      "    #       new file:   cogito.txt\n",
      "    #\n",
      "\n"
     ]
    },
    {
     "cell_type": "markdown",
     "metadata": {
      "slideshow": {
       "slide_type": "fragment"
      }
     },
     "source": [
      "Save and exit the commit message file\n"
     ]
    },
    {
     "cell_type": "markdown",
     "metadata": {
      "slideshow": {
       "slide_type": "slide"
      }
     },
     "source": [
      "Something like this should appear in your terminal:\n"
     ]
    },
    {
     "cell_type": "markdown",
     "metadata": {
      "slideshow": {
       "slide_type": "fragment"
      }
     },
     "source": [
      "    $ git commit\n",
      "    [master (root-commit) dbedc93] Initial commit of the cogito.\n",
      "     Author: arokem <arokem@gmail.com>\n",
      "     1 file changed, 1 insertion(+)\n",
      "     create mode 100644 cogito.txt\n",
      "\n"
     ]
    },
    {
     "cell_type": "markdown",
     "metadata": {
      "slideshow": {
       "slide_type": "slide"
      }
     },
     "source": [
      "To see the history of the repo, you can always type:\n",
      "    \n",
      "    $ git log\n",
      "    \n",
      "    "
     ]
    },
    {
     "cell_type": "markdown",
     "metadata": {
      "slideshow": {
       "slide_type": "fragment"
      }
     },
     "source": [
      "    commit dbedc93842554629a0bc441b38dc4b6824355aee\n",
      "    Author: arokem <arokem@gmail.com>\n",
      "    Date:   Sun Apr 28 12:12:12 2013 -0700\n",
      "    \n",
      "        Initial commit of the cogito.\n",
      "\n"
     ]
    },
    {
     "cell_type": "markdown",
     "metadata": {
      "slideshow": {
       "slide_type": "slide"
      }
     },
     "source": [
      "Let's make some changes to the file\n"
     ]
    },
    {
     "cell_type": "markdown",
     "metadata": {
      "slideshow": {
       "slide_type": "fragment"
      }
     },
     "source": [
      "    $echo \"Edo ergo sum\" >> cogito.txt \n",
      "    \n",
      "    "
     ]
    },
    {
     "cell_type": "markdown",
     "metadata": {
      "slideshow": {
       "slide_type": "fragment"
      }
     },
     "source": [
      "What has changed? \n",
      "\n",
      "    $git diff\n",
      "    \n",
      "    "
     ]
    },
    {
     "cell_type": "markdown",
     "metadata": {
      "slideshow": {
       "slide_type": "fragment"
      }
     },
     "source": [
      "    diff --git a/cogito.txt b/cogito.txt\n",
      "    index 01c7cba..9084743 100644\n",
      "    --- a/cogito.txt\n",
      "    +++ b/cogito.txt\n",
      "    @@ -1 +1,2 @@\n",
      "     Cogito ergo sum\n",
      "    +Edo ergo sum\n",
      "\n"
     ]
    },
    {
     "cell_type": "markdown",
     "metadata": {
      "slideshow": {
       "slide_type": "slide"
      }
     },
     "source": [
      "    $ git status\n",
      "    \n",
      "    "
     ]
    },
    {
     "cell_type": "markdown",
     "metadata": {
      "slideshow": {
       "slide_type": "fragment"
      }
     },
     "source": [
      "    # On branch master\n",
      "    # Changes not staged for commit:\n",
      "    #   (use \"git add <file>...\" to update what will be committed)\n",
      "    #   (use \"git checkout -- <file>...\" to discard changes in working directory)\n",
      "    #\n",
      "    #\tmodified:   cogito.txt\n",
      "    #\n",
      "    no changes added to commit (use \"git add\" and/or \"git commit -a\")\n",
      "    \n",
      "    "
     ]
    },
    {
     "cell_type": "markdown",
     "metadata": {
      "slideshow": {
       "slide_type": "slide"
      }
     },
     "source": [
      "    $ git commit \n",
      "    \n",
      "    "
     ]
    },
    {
     "cell_type": "markdown",
     "metadata": {
      "slideshow": {
       "slide_type": "fragment"
      }
     },
     "source": [
      "    # On branch master\n",
      "    # Changes not staged for commit:\n",
      "    #   (use \"git add <file>...\" to update what will be committed)\n",
      "    #   (use \"git checkout -- <file>...\" to discard changes in working directory)\n",
      "    #\n",
      "    #\tmodified:   cogito.txt\n",
      "    #\n",
      "    no changes added to commit (use \"git add\" and/or \"git commit -a\")\n",
      "    \n",
      "    "
     ]
    },
    {
     "cell_type": "markdown",
     "metadata": {
      "slideshow": {
       "slide_type": "slide"
      }
     },
     "source": [
      "We could run: \n",
      "    \n",
      "    $ git add cogito.txt \n",
      "    \n",
      "Followed by: \n",
      "    \n",
      "    $ git commit       \n",
      "    \n",
      "    "
     ]
    },
    {
     "cell_type": "markdown",
     "metadata": {
      "slideshow": {
       "slide_type": "fragment"
      }
     },
     "source": [
      "A shortcut is given by: \n",
      "\n",
      "    $ git commit -a\n",
      "    \n",
      "    "
     ]
    },
    {
     "cell_type": "markdown",
     "metadata": {
      "slideshow": {
       "slide_type": "slide"
      }
     },
     "source": [
      "After doing that:\n",
      "    \n",
      "    $ git status\n",
      "    \n",
      "    "
     ]
    },
    {
     "cell_type": "markdown",
     "metadata": {
      "slideshow": {
       "slide_type": "fragment"
      }
     },
     "source": [
      "    # On branch master\n",
      "    nothing to commit (working directory clean)\n",
      "    \n",
      "    "
     ]
    },
    {
     "cell_type": "markdown",
     "metadata": {
      "slideshow": {
       "slide_type": "fragment"
      }
     },
     "source": [
      "    $ git log\n",
      "    \n",
      "    "
     ]
    },
    {
     "cell_type": "markdown",
     "metadata": {
      "slideshow": {
       "slide_type": "fragment"
      }
     },
     "source": [
      "    commit 48143556b5a8b86aecb78d06ed749ab2b1c37248\n",
      "    Author: arokem <arokem@gmail.com>\n",
      "    Date:   Sun Apr 28 12:32:01 2013 -0700\n",
      "\n",
      "        Man's gotta eat.\n",
      "\n",
      "    commit dbedc93842554629a0bc441b38dc4b6824355aee\n",
      "    Author: arokem <arokem@gmail.com>\n",
      "    Date:   Sun Apr 28 12:12:12 2013 -0700\n",
      "\n",
      "        Initial commit of the cogito.\n",
      "        \n",
      "        "
     ]
    },
    {
     "cell_type": "markdown",
     "metadata": {
      "slideshow": {
       "slide_type": "slide"
      }
     },
     "source": [
      "## The cycle of git virtue: work, (add), commit, work, (add), commit \n",
      "\n"
     ]
    },
    {
     "cell_type": "markdown",
     "metadata": {
      "slideshow": {
       "slide_type": "fragment"
      }
     },
     "source": [
      "<img src=\"https://raw.github.com/karthikram/git_intro/master/img/lifecycle1.png\" size=\"50%\">"
     ]
    },
    {
     "cell_type": "markdown",
     "metadata": {
      "slideshow": {
       "slide_type": "slide"
      }
     },
     "source": [
      "Check out this wonderful visualization: http://ndpsoftware.com/git-cheatsheet.html\n"
     ]
    },
    {
     "cell_type": "markdown",
     "metadata": {
      "slideshow": {
       "slide_type": "slide"
      }
     },
     "source": [
      "`git` commands we've seen so far: \n"
     ]
    },
    {
     "cell_type": "markdown",
     "metadata": {
      "slideshow": {
       "slide_type": "fragment"
      }
     },
     "source": [
      "- `git init`\n",
      "\n"
     ]
    },
    {
     "cell_type": "markdown",
     "metadata": {
      "slideshow": {
       "slide_type": "fragment"
      }
     },
     "source": [
      "- `git status`\n",
      "\n"
     ]
    },
    {
     "cell_type": "markdown",
     "metadata": {
      "slideshow": {
       "slide_type": "fragment"
      }
     },
     "source": [
      "- `git add`\n",
      "\n"
     ]
    },
    {
     "cell_type": "markdown",
     "metadata": {
      "slideshow": {
       "slide_type": "fragment"
      }
     },
     "source": [
      "- `git commit` \n",
      "\n"
     ]
    },
    {
     "cell_type": "markdown",
     "metadata": {
      "slideshow": {
       "slide_type": "fragment"
      }
     },
     "source": [
      "- `git log`\n",
      "\n"
     ]
    },
    {
     "cell_type": "markdown",
     "metadata": {
      "slideshow": {
       "slide_type": "fragment"
      }
     },
     "source": [
      "- `git diff`\n",
      "\n"
     ]
    },
    {
     "cell_type": "markdown",
     "metadata": {
      "slideshow": {
       "slide_type": "slide"
      }
     },
     "source": [
      "## Before moving on: the anatomy of a commit\n",
      "\n",
      "<img src=\"https://raw.github.com/fperez/reprosw/master/fig/commit_anatomy.png\">\n",
      "\n"
     ]
    },
    {
     "cell_type": "markdown",
     "metadata": {
      "slideshow": {
       "slide_type": "slide"
      }
     },
     "source": [
      "Now we can understand that a *repository* is simply a group of *linked* commits\n",
      "\n",
      "<img src=\"https://raw.github.com/fperez/reprosw/master/fig/threecommits.png\" >\n",
      "\n"
     ]
    },
    {
     "cell_type": "markdown",
     "metadata": {
      "slideshow": {
       "slide_type": "slide"
      }
     },
     "source": [
      "## Exercise: \n",
      "\n",
      "- Make changes to the file we already have\n",
      "- Add another file and make some changes to it. \n",
      "- Make commits as you go along\n",
      "- Remove this second file (Take a look at `git help rm`)\n",
      "\n"
     ]
    },
    {
     "cell_type": "markdown",
     "metadata": {
      "slideshow": {
       "slide_type": "slide"
      }
     },
     "source": [
      "# Next stage\n",
      "## Local and branching\n",
      "\n"
     ]
    },
    {
     "cell_type": "markdown",
     "metadata": {
      "slideshow": {
       "slide_type": "slide"
      }
     },
     "source": [
      "What is a branch?  Simply a *label for the 'current' commit in a sequence of ongoing commits*:\n",
      "\n",
      "<img src=\"https://raw.github.com/fperez/reprosw/master/fig/masterbranch.png\" >"
     ]
    },
    {
     "cell_type": "markdown",
     "metadata": {
      "slideshow": {
       "slide_type": "slide"
      }
     },
     "source": [
      "Let's make another branch that we will call `testing`:\n",
      "\n"
     ]
    },
    {
     "cell_type": "markdown",
     "metadata": {
      "slideshow": {
       "slide_type": "fragment"
      }
     },
     "source": [
      "    $ git branch testing\n",
      "    \n",
      "    "
     ]
    },
    {
     "cell_type": "markdown",
     "metadata": {
      "slideshow": {
       "slide_type": "fragment"
      }
     },
     "source": [
      "We can switch over to this other branch by checking it out:\n"
     ]
    },
    {
     "cell_type": "markdown",
     "metadata": {
      "slideshow": {
       "slide_type": "fragment"
      }
     },
     "source": [
      "    $ git checkout testing\n",
      "    \n",
      "    "
     ]
    },
    {
     "cell_type": "markdown",
     "metadata": {
      "slideshow": {
       "slide_type": "slide"
      }
     },
     "source": [
      "There can be multiple branches alive at any point in time; the working directory is the state of a special pointer called HEAD.  \n",
      "\n",
      "In this example there are two branches, *master* and *testing*, and *testing* is the currently active branch since it's what HEAD points to:\n",
      "\n",
      "<img src=\"https://raw.github.com/fperez/reprosw/master/fig/HEAD_testing.png\" >"
     ]
    },
    {
     "cell_type": "markdown",
     "metadata": {
      "slideshow": {
       "slide_type": "slide"
      }
     },
     "source": [
      "Let's see what git has done. If we type:\n",
      "\n"
     ]
    },
    {
     "cell_type": "markdown",
     "metadata": {
      "slideshow": {
       "slide_type": "fragment"
      }
     },
     "source": [
      "    $less .git/HEAD\n",
      "    \n",
      "    "
     ]
    },
    {
     "cell_type": "markdown",
     "metadata": {
      "slideshow": {
       "slide_type": "fragment"
      }
     },
     "source": [
      "    ref: refs/heads/testing\n",
      "    \n",
      "    "
     ]
    },
    {
     "cell_type": "markdown",
     "metadata": {
      "slideshow": {
       "slide_type": "fragment"
      }
     },
     "source": [
      "    $less .git/refs/heads/testing \n",
      "    \n",
      "    "
     ]
    },
    {
     "cell_type": "markdown",
     "metadata": {
      "slideshow": {
       "slide_type": "fragment"
      }
     },
     "source": [
      "    48143556b5a8b86aecb78d06ed749ab2b1c37248\n",
      "    \n"
     ]
    },
    {
     "cell_type": "markdown",
     "metadata": {
      "slideshow": {
       "slide_type": "fragment"
      }
     },
     "source": [
      "<img src=\"https://raw.github.com/fperez/reprosw/master/fig/commit_anatomy.png\">\n"
     ]
    },
    {
     "cell_type": "markdown",
     "metadata": {
      "slideshow": {
       "slide_type": "slide"
      }
     },
     "source": [
      "Once new commits are made on a branch, HEAD and the branch label move with the new commits:\n",
      "    \n",
      "<img src=\"https://raw.github.com/fperez/reprosw/master/fig/branchcommit.png\" >"
     ]
    },
    {
     "cell_type": "markdown",
     "metadata": {
      "slideshow": {
       "slide_type": "slide"
      }
     },
     "source": [
      "    $ echo \"dx/dy=(x2-x1)/(y2-y1)\" > geometry.txt\n",
      "\n",
      "    $ git add geometry.txt\n",
      "    \n",
      "    $ git status\n",
      "\n"
     ]
    },
    {
     "cell_type": "markdown",
     "metadata": {
      "slideshow": {
       "slide_type": "fragment"
      }
     },
     "source": [
      "    # On branch testing\n",
      "    # Changes to be committed:\n",
      "    #   (use \"git reset HEAD <file>...\" to unstage)\n",
      "    #\n",
      "    #\tnew file:   geometry.txt\n",
      "    #\n",
      "\n"
     ]
    },
    {
     "cell_type": "markdown",
     "metadata": {
      "slideshow": {
       "slide_type": "slide"
      }
     },
     "source": [
      "    $ git commit \n",
      "    \n",
      "    [testing 0c00437] Another kind of science\n",
      "     Author: arokem <arokem@gmail.com>\n",
      "     1 file changed, 1 insertion(+)\n",
      "     create mode 100644 geometry.txt\n",
      "\n"
     ]
    },
    {
     "cell_type": "markdown",
     "metadata": {
      "slideshow": {
       "slide_type": "slide"
      }
     },
     "source": [
      "    $ git log\n",
      "\n",
      "    commit 0c004374d232b0c49068f7c4b31226710fc2599f\n",
      "    Author: arokem <arokem@gmail.com>\n",
      "    Date:   Sun Apr 28 13:24:59 2013 -0700\n",
      "\n",
      "        Another kind of science\n",
      "\n",
      "    commit 48143556b5a8b86aecb78d06ed749ab2b1c37248\n",
      "    Author: arokem <arokem@gmail.com>\n",
      "    Date:   Sun Apr 28 12:32:01 2013 -0700\n",
      "\n",
      "        Man's gotta eat.\n",
      "\n",
      "    commit dbedc93842554629a0bc441b38dc4b6824355aee\n",
      "    Author: arokem <arokem@gmail.com>\n",
      "    Date:   Sun Apr 28 12:12:12 2013 -0700\n",
      "\n",
      "        Initial commit of the cogito.\n",
      "        \n",
      "        "
     ]
    },
    {
     "cell_type": "markdown",
     "metadata": {
      "slideshow": {
       "slide_type": "fragment"
      }
     },
     "source": [
      "\n",
      "<img src=\"https://raw.github.com/fperez/reprosw/master/fig/branchcommit.png\" >"
     ]
    },
    {
     "cell_type": "markdown",
     "metadata": {
      "slideshow": {
       "slide_type": "slide"
      }
     },
     "source": [
      "If we continue to work on both branches, the history could diverge:\n",
      "\n",
      "<!-- offline: \n",
      "![](files/fig/mergescenario.png)\n",
      "-->\n",
      "\n",
      "<img src=\"https://raw.github.com/fperez/reprosw/master/fig/mergescenario.png\" >"
     ]
    },
    {
     "cell_type": "markdown",
     "metadata": {
      "slideshow": {
       "slide_type": "slide"
      }
     },
     "source": [
      "    $git checkout master\n",
      "        Switched to branch 'master'\n",
      "        \n",
      "        "
     ]
    },
    {
     "cell_type": "markdown",
     "metadata": {
      "slideshow": {
       "slide_type": "slide"
      }
     },
     "source": [
      "Note that this changes the files on your disk! \n",
      "\n"
     ]
    },
    {
     "cell_type": "markdown",
     "metadata": {
      "slideshow": {
       "slide_type": "fragment"
      }
     },
     "source": [
      "    $ ls\n",
      "    cogito.txt\n",
      "    \n",
      "    "
     ]
    },
    {
     "cell_type": "markdown",
     "metadata": {
      "slideshow": {
       "slide_type": "slide"
      }
     },
     "source": [
      "If we do some more work here: \n",
      "    \n",
      "    $ echo \"Non pane solo\" >> cogito.txt \n",
      "    \n",
      "    "
     ]
    },
    {
     "cell_type": "markdown",
     "metadata": {
      "slideshow": {
       "slide_type": "fragment"
      }
     },
     "source": [
      "This also works: \n",
      "    \n",
      "    $ git commit cogito.txt\n",
      "    [master 61da4a4] Not on bread alone\n",
      "     Author: arokem <arokem@gmail.com>\n",
      "     1 file changed, 1 insertion(+)\n",
      "     \n",
      "     "
     ]
    },
    {
     "cell_type": "markdown",
     "metadata": {
      "slideshow": {
       "slide_type": "slide"
      }
     },
     "source": [
      "$ git log\n",
      "\n",
      "    commit 61da4a4963c00b2a51b4503d3eb13894a4bcac41\n",
      "    Author: arokem <arokem@gmail.com>\n",
      "    Date:   Sun Apr 28 13:40:11 2013 -0700\n",
      "\n",
      "        Not on bread alone\n",
      "\n",
      "    commit 48143556b5a8b86aecb78d06ed749ab2b1c37248\n",
      "    Author: arokem <arokem@gmail.com>\n",
      "    Date:   Sun Apr 28 12:32:01 2013 -0700\n",
      "        \n",
      "        Man's gotta eat.\n",
      "\n",
      "    commit dbedc93842554629a0bc441b38dc4b6824355aee\n",
      "    Author: arokem <arokem@gmail.com>\n",
      "    Date:   Sun Apr 28 12:12:12 2013 -0700\n",
      "    \n",
      "        Initial commit of the cogito.\n",
      "        \n",
      "        "
     ]
    },
    {
     "cell_type": "markdown",
     "metadata": {
      "slideshow": {
       "slide_type": "slide"
      }
     },
     "source": [
      "This is our current situation \n",
      "<!-- offline: \n",
      "![](files/fig/mergescenario.png)\n",
      "-->\n",
      "\n",
      "<img src=\"https://raw.github.com/fperez/reprosw/master/fig/mergescenario.png\" >"
     ]
    },
    {
     "cell_type": "markdown",
     "metadata": {
      "slideshow": {
       "slide_type": "slide"
      }
     },
     "source": [
      "But based on this graph structure, git can compute the necessary information to merge the divergent branches back:\n",
      "    \n",
      "<!-- offline: \n",
      "![](files/fig/mergeaftermath.png)\n",
      "-->\n",
      "\n",
      "<img src=\"https://raw.github.com/fperez/reprosw/master/fig/mergeaftermath.png\" >"
     ]
    },
    {
     "cell_type": "markdown",
     "metadata": {
      "slideshow": {
       "slide_type": "slide"
      }
     },
     "source": [
      "    $git merge testing\n",
      "    \n",
      "    Merge made by the 'recursive' strategy.\n",
      "     geometry.txt |    1 +\n",
      "     1 file changed, 1 insertion(+)\n",
      "     create mode 100644 geometry.txt\n",
      "\n"
     ]
    },
    {
     "cell_type": "markdown",
     "metadata": {
      "slideshow": {
       "slide_type": "slide"
      }
     },
     "source": [
      "    $ git log --graph\n",
      "\n",
      "\n",
      "    *   commit 7c8adb5345ce035ca436b779472e38d56a2c3fcf\n",
      "    |\\  Merge: 61da4a4 0c00437\n",
      "    | | Author: arokem <arokem@gmail.com>\n",
      "    | | Date:   Sun Apr 28 13:43:41 2013 -0700\n",
      "    | | \n",
      "    | |     Merge branch 'testing'\n",
      "    | |   \n",
      "    | * commit 0c004374d232b0c49068f7c4b31226710fc2599f\n",
      "    | | Author: arokem <arokem@gmail.com>\n",
      "    | | Date:   Sun Apr 28 13:24:59 2013 -0700\n",
      "    | | \n",
      "    | |     Another kind of science\n",
      "    | |   \n",
      "    * | commit 61da4a4963c00b2a51b4503d3eb13894a4bcac41\n",
      "    |/  Author: arokem <arokem@gmail.com>\n",
      "    |   Date:   Sun Apr 28 13:40:11 2013 -0700\n",
      "    |   \n",
      "    |       Not on bread alone\n",
      "    |  \n",
      "    * commit 48143556b5a8b86aecb78d06ed749ab2b1c37248\n",
      "    | Author: arokem <arokem@gmail.com>\n",
      "    | Date:   Sun Apr 28 12:32:01 2013 -0700\n",
      "    | \n",
      "    |     Man's gotta eat.\n",
      "    |  \n",
      "    * commit dbedc93842554629a0bc441b38dc4b6824355aee\n",
      "      Author: arokem <arokem@gmail.com>\n",
      "      Date:   Sun Apr 28 12:12:12 2013 -0700\n",
      "  \n",
      "          Initial commit of the cogito.\n",
      "\n"
     ]
    },
    {
     "cell_type": "markdown",
     "metadata": {
      "slideshow": {
       "slide_type": "slide"
      }
     },
     "source": [
      "Note: I have my `bash` terminal configured to give me information about what branch `HEAD` is currently pointing to \n",
      "\n",
      "You can get that too, by putting the following in your `~/.bash_profile` file: \n",
      "    \n",
      "    # Set the prompt to show the current git branch:                              \n",
      "    function parse_git_branch {\n",
      "      ref=$(git symbolic-ref HEAD 2> /dev/null) || return\n",
      "      echo \"(\"${ref#refs/heads/}\")\"\n",
      "    }\n",
      " \n",
      "    PS1=\"\\h:\\W$RED \\$(parse_git_branch)$NO_COLOR $\"\n",
      "    \n"
     ]
    },
    {
     "cell_type": "markdown",
     "metadata": {
      "slideshow": {
       "slide_type": "slide"
      }
     },
     "source": [
      "## We've now seen: \n",
      "\n"
     ]
    },
    {
     "cell_type": "markdown",
     "metadata": {
      "slideshow": {
       "slide_type": "fragment"
      }
     },
     "source": [
      "- `git branch`\n",
      "\n"
     ]
    },
    {
     "cell_type": "markdown",
     "metadata": {
      "slideshow": {
       "slide_type": "fragment"
      }
     },
     "source": [
      "- `git checkout`\n",
      "\n"
     ]
    },
    {
     "cell_type": "markdown",
     "metadata": {
      "slideshow": {
       "slide_type": "fragment"
      }
     },
     "source": [
      "- `git merge`\n",
      "\n"
     ]
    },
    {
     "cell_type": "markdown",
     "metadata": {
      "slideshow": {
       "slide_type": "slide"
      }
     },
     "source": [
      "## Exercise - play around with branches a bit: \n",
      "\n",
      "Make a different branch, make some changes and merge your changes into `master`\n",
      "\n"
     ]
    },
    {
     "cell_type": "markdown",
     "metadata": {
      "slideshow": {
       "slide_type": "fragment"
      }
     },
     "source": [
      "## What happens if you edit the same content on two different branches? \n"
     ]
    },
    {
     "cell_type": "markdown",
     "metadata": {
      "slideshow": {
       "slide_type": "slide"
      }
     },
     "source": [
      "## Merge conflicts\n"
     ]
    },
    {
     "cell_type": "markdown",
     "metadata": {
      "slideshow": {
       "slide_type": "fragment"
      }
     },
     "source": [
      "    $ git checkout -b nap\n",
      "    \n",
      "    "
     ]
    },
    {
     "cell_type": "markdown",
     "metadata": {
      "slideshow": {
       "slide_type": "slide"
      }
     },
     "source": [
      "## After a little bit of editing:\n",
      "\n"
     ]
    },
    {
     "cell_type": "markdown",
     "metadata": {
      "slideshow": {
       "slide_type": "fragment"
      }
     },
     "source": [
      "    $ git diff\n",
      "    diff --git a/cogito.txt b/cogito.txt\n",
      "    index d2fb549..48cd2cc 100644\n",
      "    --- a/cogito.txt\n",
      "    +++ b/cogito.txt\n",
      "    @@ -1,3 +1,3 @@\n",
      "     Cogito ergo sum\n",
      "    -Edo ergo sum\n",
      "    +Edo ergo dormio\n",
      "     Non pane solo\n",
      "     \n",
      "     "
     ]
    },
    {
     "cell_type": "markdown",
     "metadata": {
      "slideshow": {
       "slide_type": "slide"
      }
     },
     "source": [
      "    $ git commit cogito.txt\n",
      "\n",
      "    [nap 200d2ac] I need a nap\n",
      "     Author: arokem <arokem@gmail.com>\n",
      "     1 file changed, 1 insertion(+), 1 deletion(-)\n",
      "     \n",
      "     "
     ]
    },
    {
     "cell_type": "markdown",
     "metadata": {
      "slideshow": {
       "slide_type": "slide"
      }
     },
     "source": [
      "    $ git log\n",
      "            \n",
      "    commit 200d2ac38dbd8f6266a7c2b1fca422ab9c18e920\n",
      "    Author: arokem <arokem@gmail.com>\n",
      "    Date:   Sun Apr 28 14:02:23 2013 -0700\n",
      "\n",
      "        I need a nap\n",
      "\n",
      "    commit 7c8adb5345ce035ca436b779472e38d56a2c3fcf\n",
      "    Merge: 61da4a4 0c00437\n",
      "    Author: arokem <arokem@gmail.com>\n",
      "    Date:   Sun Apr 28 13:43:41 2013 -0700\n",
      "\n",
      "        Merge branch 'testing'\n",
      "        \n",
      "        "
     ]
    },
    {
     "cell_type": "markdown",
     "metadata": {
      "slideshow": {
       "slide_type": "slide"
      }
     },
     "source": [
      "## Meanwhile, on master:\n",
      "\n",
      "    $ git log -p\n",
      "\n",
      "        commit 54dfe80854b4fc8311974f194292ec286207284e\n",
      "        Author: arokem <arokem@gmail.com>\n",
      "        Date:   Sun Apr 28 14:03:33 2013 -0700\n",
      "\n",
      "            Work will set you free.\n",
      "\n",
      "        diff --git a/cogito.txt b/cogito.txt\n",
      "        index d2fb549..e30514f 100644\n",
      "        --- a/cogito.txt\n",
      "        +++ b/cogito.txt\n",
      "        @@ -1,3 +1,3 @@\n",
      "         Cogito ergo sum\n",
      "        -Edo ergo sum\n",
      "        +Edo ergo laboro\n",
      "         Non pane solo\n",
      "\n",
      "        commit 7c8adb5345ce035ca436b779472e38d56a2c3fcf\n",
      "        Merge: 61da4a4 0c00437\n",
      "        Author: arokem <arokem@gmail.com>\n",
      "        Date:   Sun Apr 28 13:43:41 2013 -0700\n",
      "\n",
      "        Merge branch 'testing'\n",
      "\n"
     ]
    },
    {
     "cell_type": "markdown",
     "metadata": {
      "slideshow": {
       "slide_type": "slide"
      }
     },
     "source": [
      "    $ git merge nap\n",
      "    \n",
      "    Auto-merging cogito.txt\n",
      "    CONFLICT (content): Merge conflict in cogito.txt\n",
      "    Automatic merge failed; fix conflicts and then commit the result.\n",
      "    \n",
      "    "
     ]
    },
    {
     "cell_type": "markdown",
     "metadata": {
      "slideshow": {
       "slide_type": "slide"
      }
     },
     "source": [
      "## When I open the file I see the following:\n",
      "\n",
      "    Cogito ergo sum\n",
      "    <<<<<<< HEAD\n",
      "    Edo ergo laboro\n",
      "    =======\n",
      "    Edo ergo dormio\n",
      "    >>>>>>> nap\n",
      "    Non pane solo\n",
      "\n"
     ]
    },
    {
     "cell_type": "markdown",
     "metadata": {
      "slideshow": {
       "slide_type": "slide"
      }
     },
     "source": [
      "## I Edit this to: \n",
      "\n",
      "    Cogito ergo sum\n",
      "    Edo ergo laboro\n",
      "    Non pane solo\n",
      "\n"
     ]
    },
    {
     "cell_type": "markdown",
     "metadata": {
      "slideshow": {
       "slide_type": "fragment"
      }
     },
     "source": [
      "    $ git add cogito.txt\n",
      "    \n",
      "    $ git commit \n",
      "    \n",
      "    "
     ]
    },
    {
     "cell_type": "markdown",
     "metadata": {
      "slideshow": {
       "slide_type": "slide"
      }
     },
     "source": [
      "# The commit message will automatically open as: \n",
      "\n",
      "    Merge branch 'nap'\n",
      "\n",
      "    Conflicts:\n",
      "            cogito.txt\n",
      "    #\n",
      "    # It looks like you may be committing a merge.\n",
      "    # If this is not correct, please remove the file\n",
      "    #       .git/MERGE_HEAD\n",
      "    # and try again.\n",
      "\n",
      "\n",
      "    # Please enter the commit message for your changes. Lines starting\n",
      "    # with '#' will be ignored, and an empty message aborts the commit.\n",
      "    #\n",
      "    # Author:    arokem <arokem@gmail.com>\n",
      "    #\n",
      "    # On branch master\n",
      "    \n",
      "    "
     ]
    },
    {
     "cell_type": "markdown",
     "metadata": {
      "slideshow": {
       "slide_type": "slide"
      }
     },
     "source": [
      "    $ git log --graph\n",
      "\n",
      "    *   commit ad3cd0eff8454f92e3251e831fc9541225374cdc\n",
      "    |\\  Merge: 54dfe80 200d2ac\n",
      "    | | Author: arokem <arokem@gmail.com>\n",
      "    | | Date:   Sun Apr 28 14:09:09 2013 -0700\n",
      "    | | \n",
      "    | |     Merge branch 'nap'\n",
      "    | |     \n",
      "    | |     Conflicts:\n",
      "    | |             cogito.txt\n",
      "    | |   \n",
      "    | * commit 200d2ac38dbd8f6266a7c2b1fca422ab9c18e920\n",
      "    | | Author: arokem <arokem@gmail.com>\n",
      "    | | Date:   Sun Apr 28 14:02:23 2013 -0700\n",
      "    | | \n",
      "    | |     I need a nap\n",
      "    | |   \n",
      "    * | commit 54dfe80854b4fc8311974f194292ec286207284e\n",
      "    |/  Author: arokem <arokem@gmail.com>\n",
      "    |   Date:   Sun Apr 28 14:03:33 2013 -0700\n",
      "    |   \n",
      "    |       Work will set you free.\n",
      "    |    \n",
      "    \n",
      "    "
     ]
    },
    {
     "cell_type": "markdown",
     "metadata": {
      "slideshow": {
       "slide_type": "slide"
      }
     },
     "source": [
      "# The cycle of virtue extends: branch, work, commit, merge, branch, work, commit, merge \n"
     ]
    },
    {
     "cell_type": "markdown",
     "metadata": {
      "slideshow": {
       "slide_type": "fragment"
      }
     },
     "source": [
      "## Once you have merged your branches, you can run `git branch -d`\n",
      "\n"
     ]
    },
    {
     "cell_type": "markdown",
     "metadata": {
      "slideshow": {
       "slide_type": "fragment"
      }
     },
     "source": [
      "    $ git branch -a\n",
      "        \n",
      "        * master\n",
      "          nap\n",
      "          testing\n",
      "\n"
     ]
    },
    {
     "cell_type": "markdown",
     "metadata": {
      "slideshow": {
       "slide_type": "fragment"
      }
     },
     "source": [
      "    $git br -d nap\n",
      "        \n",
      "        Deleted branch nap (was 200d2ac).\n",
      "        \n",
      "        "
     ]
    },
    {
     "cell_type": "markdown",
     "metadata": {
      "slideshow": {
       "slide_type": "fragment"
      }
     },
     "source": [
      "    $git branch -a\n",
      "    \n",
      "        * master\n",
      "          testing\n",
      "          \n",
      "          "
     ]
    },
    {
     "cell_type": "markdown",
     "metadata": {
      "slideshow": {
       "slide_type": "fragment"
      }
     },
     "source": [
      "## Suggestion: never work on `master`"
     ]
    },
    {
     "cell_type": "markdown",
     "metadata": {
      "slideshow": {
       "slide_type": "slide"
      }
     },
     "source": [
      "## You should now know: "
     ]
    },
    {
     "cell_type": "markdown",
     "metadata": {
      "slideshow": {
       "slide_type": "fragment"
      }
     },
     "source": [
      "- How to make branches and work with them"
     ]
    },
    {
     "cell_type": "markdown",
     "metadata": {
      "slideshow": {
       "slide_type": "fragment"
      }
     },
     "source": [
      "- What to do in case of a conflict "
     ]
    },
    {
     "cell_type": "markdown",
     "metadata": {
      "slideshow": {
       "slide_type": "slide"
      }
     },
     "source": [
      "## Moving on: single user working with a remote"
     ]
    },
    {
     "cell_type": "markdown",
     "metadata": {
      "slideshow": {
       "slide_type": "fragment"
      }
     },
     "source": [
      "### We will demonstate this using github.com, but there are other options, such as bitbucket.org"
     ]
    },
    {
     "cell_type": "markdown",
     "metadata": {
      "slideshow": {
       "slide_type": "fragment"
      }
     },
     "source": [
      "### Go to github.com and get yourself a user account"
     ]
    },
    {
     "cell_type": "markdown",
     "metadata": {
      "slideshow": {
       "slide_type": "fragment"
      }
     },
     "source": [
      "### Meanwhile, I will entertain you by showing you some interesting github repositories: "
     ]
    },
    {
     "cell_type": "markdown",
     "metadata": {
      "slideshow": {
       "slide_type": "fragment"
      }
     },
     "source": [
      "\n",
      "[scipy](https://github.com/scipy/scipy)\n"
     ]
    },
    {
     "cell_type": "markdown",
     "metadata": {
      "slideshow": {
       "slide_type": "fragment"
      }
     },
     "source": [
      "\n",
      "[The German Federal legal code](https://github.com/bundestag/gesetze)\n"
     ]
    },
    {
     "cell_type": "markdown",
     "metadata": {
      "slideshow": {
       "slide_type": "fragment"
      }
     },
     "source": [
      "\n",
      "[My lab](https://github.com/vistalab)\n"
     ]
    },
    {
     "cell_type": "markdown",
     "metadata": {
      "slideshow": {
       "slide_type": "fragment"
      }
     },
     "source": [
      "Get a free micro account [here](https://github.com/edu)"
     ]
    },
    {
     "cell_type": "markdown",
     "metadata": {
      "slideshow": {
       "slide_type": "slide"
      }
     },
     "source": [
      "### Do we have any remotes here? "
     ]
    },
    {
     "cell_type": "markdown",
     "metadata": {
      "slideshow": {
       "slide_type": "fragment"
      }
     },
     "source": [
      "        \n",
      "    $git remote -v\n",
      "    "
     ]
    },
    {
     "cell_type": "markdown",
     "metadata": {
      "slideshow": {
       "slide_type": "fragment"
      }
     },
     "source": [
      "### Since nothing shows up, apparently we don't"
     ]
    },
    {
     "cell_type": "markdown",
     "metadata": {
      "slideshow": {
       "slide_type": "slide"
      }
     },
     "source": [
      "Since the call `git remote -v` didn't produce any output, it means we have no remote repositories configured.  We will now proceed to do so.  Once logged into github, go to the [new repository page](https://github.com/new) and make a repository called `science`.  \n",
      "\n",
      "Do **not** check the box that says `Initialize this repository with a README`, since we already have an existing repository here.  That option is useful when you're starting first at Github and don't have a repo made already on a local computer.\n",
      "\n",
      "We can now follow the instructions from the next page:"
     ]
    },
    {
     "cell_type": "markdown",
     "metadata": {
      "slideshow": {
       "slide_type": "slide"
      }
     },
     "source": [
      "\n",
      "\n",
      "    $ git remote add origin https://github.com/arokem/science.git # Put your user name here\n",
      "        \n",
      "        "
     ]
    },
    {
     "cell_type": "markdown",
     "metadata": {
      "slideshow": {
       "slide_type": "fragment"
      }
     },
     "source": [
      "\n",
      "    $git remote -v\n",
      "    \n",
      "    origin\thttps://github.com/arokem/science.git (fetch)\n",
      "    origin\thttps://github.com/arokem/science.git (push)\n",
      "    \n",
      "    "
     ]
    },
    {
     "cell_type": "markdown",
     "metadata": {
      "slideshow": {
       "slide_type": "fragment"
      }
     },
     "source": [
      "\n",
      "    $git push -u origin master\n",
      "        \n",
      "        Counting objects: 21, done.\n",
      "        Delta compression using up to 4 threads.\n",
      "        Compressing objects: 100% (12/12), done.\n",
      "        Writing objects: 100% (21/21), 1.90 KiB, done.\n",
      "        Total 21 (delta 2), reused 0 (delta 0)\n",
      "        To https://github.com/arokem/science.git\n",
      "         * [new branch]      master -> master\n",
      "        Branch master set up to track remote branch master from origin.\n",
      "        \n",
      "        "
     ]
    },
    {
     "cell_type": "markdown",
     "metadata": {
      "slideshow": {
       "slide_type": "slide"
      }
     },
     "source": [
      "\n",
      "### This is useful for backup \n",
      " Our repo is copied to github's webservers and if our laptop is stolen, we can easily recover our work.\n",
      "    \n",
      "    \n",
      "    "
     ]
    },
    {
     "cell_type": "markdown",
     "metadata": {
      "slideshow": {
       "slide_type": "fragment"
      }
     },
     "source": [
      "\n",
      "### This is useful for synchronization\n",
      "  We can see that by simulating another computer as another directory on the same machine.\n",
      "        "
     ]
    },
    {
     "cell_type": "markdown",
     "metadata": {
      "slideshow": {
       "slide_type": "slide"
      }
     },
     "source": [
      "\n",
      "    $ cd ~/projects/\n",
      "    "
     ]
    },
    {
     "cell_type": "markdown",
     "metadata": {
      "slideshow": {
       "slide_type": "fragment"
      }
     },
     "source": [
      "\n",
      "    $ git clone https://github.com/arokem/science.git\n",
      "        \n",
      "        Cloning into 'science'...\n",
      "        remote: Counting objects: 21, done.\n",
      "        remote: Compressing objects: 100% (10/10), done.\n",
      "        remote: Total 21 (delta 2), reused 21 (delta 2)\n",
      "        Unpacking objects: 100% (21/21), done.\n",
      "            "
     ]
    },
    {
     "cell_type": "markdown",
     "metadata": {
      "slideshow": {
       "slide_type": "fragment"
      }
     },
     "source": [
      "\n",
      "\n",
      "    $ cd science/\n",
      "    \n",
      "    $ ls\n",
      "    \n",
      "    cogito.txt    geometry.txt\n",
      "\n"
     ]
    },
    {
     "cell_type": "markdown",
     "metadata": {
      "slideshow": {
       "slide_type": "slide"
      }
     },
     "source": [
      "\n",
      "Going back to the original directory, I make a change in one of the files: \n",
      "    \n",
      "    $ echo \"pow(c,2) = sqrt(pow(a,2)+pow(b,2))\" >> geometry.txt \n",
      "    \n",
      "    $ git commit -a -m\"Pythagoras knew this\"\n",
      "    [master 6e56586] Pythagoras knew this\n",
      "     Author: arokem <arokem@gmail.com>\n",
      "     1 file changed, 1 insertion(+)\n",
      "     \n",
      "     "
     ]
    },
    {
     "cell_type": "markdown",
     "metadata": {
      "slideshow": {
       "slide_type": "fragment"
      }
     },
     "source": [
      "We push that up to github:\n",
      "\n",
      "    $ git push\n",
      "    \n",
      "    Counting objects: 5, done.\n",
      "    Delta compression using up to 4 threads.\n",
      "    Compressing objects: 100% (3/3), done.\n",
      "    Writing objects: 100% (3/3), 337 bytes, done.\n",
      "    Total 3 (delta 0), reused 0 (delta 0)\n",
      "    To https://github.com/arokem/science.git\n",
      "       ad3cd0e..6e56586  master -> master"
     ]
    },
    {
     "cell_type": "markdown",
     "metadata": {
      "slideshow": {
       "slide_type": "slide"
      }
     },
     "source": [
      "Switching to the new directory (think \"another computer\")"
     ]
    },
    {
     "cell_type": "markdown",
     "metadata": {
      "slideshow": {
       "slide_type": "fragment"
      }
     },
     "source": [
      "    $git pull\n",
      "    \n",
      "    remote: Counting objects: 5, done.\n",
      "    remote: Compressing objects: 100% (3/3), done.\n",
      "    Unpacking objects: 100% (3/3), done.\n",
      "    remote: Total 3 (delta 0), reused 3 (delta 0)\n",
      "    From https://github.com/arokem/science\n",
      "       ad3cd0e..6e56586  master     -> origin/master\n",
      "    Updating ad3cd0e..6e56586\n",
      "    Fast-forward\n",
      "     geometry.txt |    1 +\n",
      "     1 file changed, 1 insertion(+)"
     ]
    },
    {
     "cell_type": "markdown",
     "metadata": {
      "slideshow": {
       "slide_type": "slide"
      }
     },
     "source": [
      "This actually does two distinct operations: \n",
      "    \n",
      "    $ git fetch \n",
      "    \n",
      "Which brings in changes from the remote, and: \n",
      "    \n",
      "    $ git merge origin/master\n",
      "    \n",
      "which, well - you know what merge does, no?"
     ]
    },
    {
     "cell_type": "markdown",
     "metadata": {
      "slideshow": {
       "slide_type": "slide"
      }
     },
     "source": [
      "### Let's recap\n",
      "\n",
      "You should now know how to: \n",
      "    \n",
      "    "
     ]
    },
    {
     "cell_type": "markdown",
     "metadata": {
      "slideshow": {
       "slide_type": "fragment"
      }
     },
     "source": [
      "- Set up a repository on github"
     ]
    },
    {
     "cell_type": "markdown",
     "metadata": {
      "slideshow": {
       "slide_type": "fragment"
      }
     },
     "source": [
      "- Connect a local repository with a remote on github"
     ]
    },
    {
     "cell_type": "markdown",
     "metadata": {
      "slideshow": {
       "slide_type": "fragment"
      }
     },
     "source": [
      "- Synchronize the repository across multiple computers"
     ]
    },
    {
     "cell_type": "markdown",
     "metadata": {
      "slideshow": {
       "slide_type": "slide"
      }
     },
     "source": [
      "### Collaborating with others : small teams "
     ]
    },
    {
     "cell_type": "markdown",
     "metadata": {
      "slideshow": {
       "slide_type": "fragment"
      }
     },
     "source": [
      "To demonstrate collaborate with a small team, we will set up a shared collaboration with one partner (the person sitting next to you).  This will show the basic workflow of collaborating on a project with a small team where everyone has write privileges to the same repository.  "
     ]
    },
    {
     "cell_type": "markdown",
     "metadata": {
      "slideshow": {
       "slide_type": "fragment"
      }
     },
     "source": [
      "Note for SVN users: this is similar to the classic SVN workflow, with the distinction that commit and push are separate steps.  SVN, having no local repository, commits directly to the shared central resource, so to a first approximation you can think of `svn commit` as being synonymous with `git commit; git push`."
     ]
    },
    {
     "cell_type": "markdown",
     "metadata": {
      "slideshow": {
       "slide_type": "fragment"
      }
     },
     "source": [
      "We will have two people, let's call them Alice and Bob, sharing a repository.  Alice will be the owner of the repo and she will give Bob write privileges.  "
     ]
    },
    {
     "cell_type": "markdown",
     "metadata": {
      "slideshow": {
       "slide_type": "slide"
      }
     },
     "source": [
      "We begin with a simple synchronization example, much like we just did above, but now between *two people* instead of one person.  Otherwise it's the same:"
     ]
    },
    {
     "cell_type": "markdown",
     "metadata": {
      "slideshow": {
       "slide_type": "fragment"
      }
     },
     "source": [
      "- Bob clones Alice's repository."
     ]
    },
    {
     "cell_type": "markdown",
     "metadata": {
      "slideshow": {
       "slide_type": "fragment"
      }
     },
     "source": [
      "- Bob makes changes to a file and commits them locally."
     ]
    },
    {
     "cell_type": "markdown",
     "metadata": {
      "slideshow": {
       "slide_type": "fragment"
      }
     },
     "source": [
      "- Bob pushes his changes to github."
     ]
    },
    {
     "cell_type": "markdown",
     "metadata": {
      "slideshow": {
       "slide_type": "fragment"
      }
     },
     "source": [
      "- Alice pulls Bob's changes into her own repository."
     ]
    },
    {
     "cell_type": "markdown",
     "metadata": {
      "slideshow": {
       "slide_type": "slide"
      }
     },
     "source": [
      "Next, we will have both parties make non-conflicting changes each, and commit them locally.  Then both try to push their changes:"
     ]
    },
    {
     "cell_type": "markdown",
     "metadata": {
      "slideshow": {
       "slide_type": "fragment"
      }
     },
     "source": [
      "- Alice adds a new file, `alice.txt` to the repo and commits."
     ]
    },
    {
     "cell_type": "markdown",
     "metadata": {
      "slideshow": {
       "slide_type": "fragment"
      }
     },
     "source": [
      "- Bob adds `bob.txt` and commits."
     ]
    },
    {
     "cell_type": "markdown",
     "metadata": {
      "slideshow": {
       "slide_type": "fragment"
      }
     },
     "source": [
      "- Alice pushes to github."
     ]
    },
    {
     "cell_type": "markdown",
     "metadata": {
      "slideshow": {
       "slide_type": "fragment"
      }
     },
     "source": [
      "- Bob tries to push to github.  What happens here?"
     ]
    },
    {
     "cell_type": "markdown",
     "metadata": {
      "slideshow": {
       "slide_type": "slide"
      }
     },
     "source": [
      "The problem is that Bob's changes create a commit that conflicts with Alice's, so git refuses to apply them.  It forces Bob to first do the merge on his machine, so that if there is a conflict in the merge, Bob deals with the conflict manually (git could try to do the merge on the server, but in that case if there's a conflict, the server repo would be left in a conflicted state without a human to fix things up).  The solution is for Bob to first pull the changes (pull in git is really fetch+merge), and then push again."
     ]
    },
    {
     "cell_type": "markdown",
     "metadata": {
      "slideshow": {
       "slide_type": "slide"
      }
     },
     "source": [
      "### Pull requests\n",
      "\n",
      "This is a mechanism implemented on github, which allows you to discuss changes, before merging them into `master`."
     ]
    },
    {
     "cell_type": "markdown",
     "metadata": {
      "slideshow": {
       "slide_type": "fragment"
      }
     },
     "source": [
      "### Remember that I suggested not to work on `master`?"
     ]
    },
    {
     "cell_type": "markdown",
     "metadata": {
      "slideshow": {
       "slide_type": "slide"
      }
     },
     "source": [
      "Here's why. Imagine that I am working on cleaning up one of the files in our project"
     ]
    },
    {
     "cell_type": "markdown",
     "metadata": {
      "slideshow": {
       "slide_type": "fragment"
      }
     },
     "source": [
      "\n",
      "    $ git checkout -b cogito_cleanup \n",
      "    \n",
      "    "
     ]
    },
    {
     "cell_type": "markdown",
     "metadata": {
      "slideshow": {
       "slide_type": "fragment"
      }
     },
     "source": [
      "After some work:\n",
      "    "
     ]
    },
    {
     "cell_type": "markdown",
     "metadata": {
      "slideshow": {
       "slide_type": "fragment"
      }
     },
     "source": [
      "\n",
      "    $ git diff\n",
      "    \n",
      "    diff --git a/cogito.txt b/cogito.txt\n",
      "    index e30514f..01c7cba 100644\n",
      "    --- a/cogito.txt\n",
      "    +++ b/cogito.txt\n",
      "    @@ -1,3 +1 @@\n",
      "     Cogito ergo sum\n",
      "    -Edo ergo laboro\n",
      "    -Non pane solo\n"
     ]
    },
    {
     "cell_type": "markdown",
     "metadata": {
      "slideshow": {
       "slide_type": "slide"
      }
     },
     "source": [
      "\n",
      "    $ git commit -a -m\"Only the essentials\"\n",
      "\n",
      "    [cogito_cleanup 21e0764] Only the essentials\n",
      "     Author: arokem <arokem@gmail.com>\n",
      "     1 file changed, 2 deletions(-)\n",
      "     \n",
      "     "
     ]
    },
    {
     "cell_type": "markdown",
     "metadata": {
      "slideshow": {
       "slide_type": "fragment"
      }
     },
     "source": [
      "\n",
      "    $ git push\n",
      "    \n",
      "    "
     ]
    },
    {
     "cell_type": "markdown",
     "metadata": {
      "slideshow": {
       "slide_type": "fragment"
      }
     },
     "source": [
      "    \n",
      "\n",
      "    fatal: The current branch cogito_cleanup has no upstream branch.\n",
      "    To push the current branch and set the remote as upstream, use\n",
      "\n",
      "        git push --set-upstream origin cogito_cleanup\n",
      "        "
     ]
    },
    {
     "cell_type": "markdown",
     "metadata": {
      "slideshow": {
       "slide_type": "fragment"
      }
     },
     "source": [
      "\n",
      "    $ git push --set_upstream origin cogito_cleanup\n",
      "    \n",
      "    Counting objects: 5, done.\n",
      "    Delta compression using up to 4 threads.\n",
      "    Compressing objects: 100% (2/2), done.\n",
      "    Writing objects: 100% (3/3), 305 bytes, done.\n",
      "    Total 3 (delta 0), reused 0 (delta 0)\n",
      "    To https://github.com/arokem/science.git\n",
      "     * [new branch]      cogito_cleanup -> cogito_cleanup\n",
      "     \n",
      "     "
     ]
    },
    {
     "cell_type": "markdown",
     "metadata": {
      "slideshow": {
       "slide_type": "slide"
      }
     },
     "source": [
      "<img src=\"https://raw.github.com/arokem/boot-camps/git_notebook/version-control/git/images/pr1.png\">"
     ]
    },
    {
     "cell_type": "markdown",
     "metadata": {
      "slideshow": {
       "slide_type": "slide"
      }
     },
     "source": [
      "<img src=\"https://raw.github.com/arokem/boot-camps/git_notebook/version-control/git/images/pr2.png\">\n"
     ]
    },
    {
     "cell_type": "markdown",
     "metadata": {
      "slideshow": {
       "slide_type": "slide"
      }
     },
     "source": [
      "<img src=\"https://raw.github.com/arokem/boot-camps/git_notebook/version-control/git/images/pr3.png\">"
     ]
    },
    {
     "cell_type": "markdown",
     "metadata": {
      "slideshow": {
       "slide_type": "slide"
      }
     },
     "source": [
      "<img src=\"https://raw.github.com/arokem/boot-camps/git_notebook/version-control/git/images/pr4.png\">"
     ]
    },
    {
     "cell_type": "markdown",
     "metadata": {
      "slideshow": {
       "slide_type": "slide"
      }
     },
     "source": [
      "<img src=\"https://raw.github.com/arokem/boot-camps/git_notebook/version-control/git/images/pr5.png\">"
     ]
    },
    {
     "cell_type": "markdown",
     "metadata": {
      "slideshow": {
       "slide_type": "slide"
      }
     },
     "source": [
      "<img src=\"https://raw.github.com/arokem/boot-camps/git_notebook/version-control/git/images/pr6.png\" >"
     ]
    },
    {
     "cell_type": "markdown",
     "metadata": {
      "slideshow": {
       "slide_type": "slide"
      }
     },
     "source": [
      "    $ git checkout master\n",
      "    Switched to branch 'master'"
     ]
    },
    {
     "cell_type": "markdown",
     "metadata": {
      "slideshow": {
       "slide_type": "fragment"
      }
     },
     "source": [
      "    $ git pull\n",
      "    remote: Counting objects: 1, done.\n",
      "    remote: Total 1 (delta 0), reused 0 (delta 0)\n",
      "    Unpacking objects: 100% (1/1), done.\n",
      "    From https://github.com/arokem/science\n",
      "       892c594..c89c54c  master     -> origin/master\n",
      "    Updating 892c594..c89c54c\n",
      "    Fast-forward\n",
      "     cogito.txt |    2 --\n",
      "     1 file changed, 2 deletions(-)"
     ]
    },
    {
     "cell_type": "markdown",
     "metadata": {
      "slideshow": {
       "slide_type": "slide"
      }
     },
     "source": [
      "    $ git log -p\n",
      "\n",
      "    commit c89c54ca3b08af7424ce6b06c9e3792d0ee770e3\n",
      "    Merge: 892c594 21e0764\n",
      "    Author: Ariel Rokem <arokem@gmail.com>\n",
      "    Date:   Sun Apr 28 16:05:47 2013 -0700\n",
      "    \n",
      "        Merge pull request #1 from arokem/cogito_cleanup\n",
      "    \n",
      "        Only the essentials\n",
      "\n",
      "    commit 21e07642eb65fe768b68215cef95f1b32834ab85\n",
      "    Author: arokem <arokem@gmail.com>\n",
      "    Date:   Sun Apr 28 15:55:10 2013 -0700\n",
      "\n",
      "        Only the essentials\n",
      "\n",
      "    diff --git a/cogito.txt b/cogito.txt\n",
      "    index e30514f..01c7cba 100644\n",
      "    --- a/cogito.txt\n",
      "    +++ b/cogito.txt\n",
      "    @@ -1,3 +1 @@\n",
      "     Cogito ergo sum\n",
      "    -Edo ergo laboro\n",
      "    -Non pane solo\n"
     ]
    },
    {
     "cell_type": "markdown",
     "metadata": {
      "slideshow": {
       "slide_type": "slide"
      }
     },
     "source": [
      "## Exercise : \n",
      "    \n",
      "- Grant your partner permissions on your github repository (`Settings` => `Collaborators`), then make a pull request. \n",
      "- Have a discussion on the diff of the PR\n",
      "- Merge the PR, resolving conflicts as they arise\n",
      "    "
     ]
    },
    {
     "cell_type": "markdown",
     "metadata": {
      "slideshow": {
       "slide_type": "slide"
      }
     },
     "source": [
      "\n",
      "\n",
      "## \"Full-contact git + github\": distributed collaboration with large teams\n",
      "\n",
      "We'll say only a few words about this. \n",
      "\n",
      "The main additional concept that you need to know about is the concept of a **fork**. This is a copy of the original repository that is on your own github account. In this case, you will clone your own fork onto your machine and you will issue pull-requests "
     ]
    },
    {
     "cell_type": "markdown",
     "metadata": {
      "slideshow": {
       "slide_type": "slide"
      }
     },
     "source": [
      "## Questions? "
     ]
    }
   ],
   "metadata": {}
  }
 ]
}