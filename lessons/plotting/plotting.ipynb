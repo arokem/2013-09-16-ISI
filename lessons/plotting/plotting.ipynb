{
 "metadata": {
  "name": ""
 },
 "nbformat": 3,
 "nbformat_minor": 0,
 "worksheets": [
  {
   "cells": [
    {
     "cell_type": "markdown",
     "metadata": {},
     "source": [
      "Plotting in Python\n",
      "==================\n",
      "**Based on Lecture Material by Anthony Scopatz and Katy Huff**\n",
      "\n",
      "Do this while I talk. If this is your first use of matplotlib (ever on\n",
      "this machine), it will take a little longer starting up."
     ]
    },
    {
     "cell_type": "code",
     "collapsed": false,
     "input": [
      "from matplotlib import pyplot"
     ],
     "language": "python",
     "metadata": {},
     "outputs": [],
     "prompt_number": 2
    },
    {
     "cell_type": "markdown",
     "metadata": {},
     "source": [
      "\n",
      "The ability to visually represent data is one of the more important\n",
      "tools to the scientific user of python. The most popular and arguably\n",
      "most mature library for producing publication quality 2D plots\n",
      "matplotlib (MatPlotLib). In the developers own words, MatPlotLib is\n",
      "\n",
      "> a python 2D plotting library which produces publication quality\n",
      "> figures in a variety of hardcopy formats and interactive environments\n",
      "> across platforms. matplotlib can be used in python scripts, the python\n",
      "> and ipython shell (ala MatLab or mathematica), web application\n",
      "> servers, and six graphical user interface toolkits.\"\n",
      "\n",
      "pyplot, pylab and matplotlib. numpy, MatLab and more...\n",
      "-------------------------------------------------------\n",
      "\n",
      "The underlying structure of MatPlotLib is very general and customizable.\n",
      "Thankfully, you don't actually need to interact with all that power. The\n",
      "way to generate plots and modify them is through the pyplot interface.\n",
      "The pyplot interface is much much inspired by Matlab's plotting\n",
      "commands, so it should if you're familiar with that it should be easy to\n",
      "pick up.\n",
      "\n",
      "-   matplotlib - raw access to the plotting library. useful for\n",
      "    extending matplotlib or doing very custom things\n",
      "-   pyplot - MatLab-like interface to matplotlib (use this one!)\n",
      "-   pylab - pyplot + numpy\n",
      "\n",
      "**Aside: Multiple Interfaces to MatPlotLib**\n",
      "\n",
      "In addition to the object oriented pyplot interface, pyplot implements a\n",
      "clone of Matlab's plotting interface. The main difference is that the\n",
      "Matlab interface has the paradigm of the \"current figure.\" So plotting\n",
      "and labeling commands implicitly refer to the current figure/subplot.\n",
      "This is fine so long as your plotting commands are simple and\n",
      "sequential. However, when your program requires that you modify a figure\n",
      "in multiple contexts the Matlab interface becomes very difficult to keep\n",
      "up with.\n",
      "\n",
      "In this session, we will use the object oriented interface exclusively.\n",
      "It is trivial to degrade to the Matlab interface if you're feeling lazy,\n",
      "but the object oriented interface is powerful. It is also more explicit."
     ]
    },
    {
     "cell_type": "code",
     "collapsed": false,
     "input": [
      "import matplotlib.pyplot as plt"
     ],
     "language": "python",
     "metadata": {},
     "outputs": [],
     "prompt_number": 3
    },
    {
     "cell_type": "markdown",
     "metadata": {},
     "source": [
      "First things first. Let's plot something. Open up a file, copy, paste,\n",
      "execute."
     ]
    },
    {
     "cell_type": "code",
     "collapsed": false,
     "input": [
      "from matplotlib import pyplot as plt\n",
      "x = range(0,10)\n",
      "y = [val**2 for val in x]\n",
      "ax = plt.subplot(111)\n",
      "ax.plot(x,y)\n",
      "plt.show()"
     ],
     "language": "python",
     "metadata": {},
     "outputs": [],
     "prompt_number": 21
    },
    {
     "cell_type": "markdown",
     "metadata": {},
     "source": [
      "figures, subplots, and axes\n",
      "---------------------------\n",
      "\n",
      "MatPlotLib plots are organized into figures, subplots and axes.\n",
      "\n",
      "![](/python/scipy/images/fig1.jpg)\n",
      "\n",
      "-   figure = the whole window (Figure 1 above)\n",
      "-   subplot = the regular grid of four plots (One, Two, Three, and Four\n",
      "    above) within the window\n",
      "-   axes = a handle to the place in the subplot to put your curves\n",
      "    (there are four axes defining the locations of the 6 curves above.)\n",
      "\n",
      "### Hands On Exercise : Making a Plot\n",
      "\n",
      "Lets make a plot. Retyping everything is not fun. Open up your favorite\n",
      "text editor to create a file \"plot.py\" to hold your plotting script.\n",
      "\n",
      "0.  from matplotlib import pyplot as plt\n",
      "\n",
      "1.  Make a figure: **fig = plt.figure()**\n",
      "\n",
      "2.  Add a subplot to the figure: **ax = fig.add\\_subplot(111)**\n",
      "\n",
      "3.  Plot on the subplot axes: **ax.plot(range(10))**\n",
      "\n",
      "4.  Show the figure: **plt.show()**\n",
      "\n",
      "    Your file should look like :\n",
      "\n",
      "    ```python\n",
      "      from matplotlib import pyplot as plt\n",
      "      fig = plt.figure()\n",
      "      ax = fig.add_subplot(111)\n",
      "      ax.plot([1,2,3,4,5,6])\n",
      "    ```\n",
      "\n",
      "\n",
      "Customizing your Figure\n",
      "-----------------------\n",
      "\n",
      "Other, sometimes more convenient ways to get axes."
     ]
    },
    {
     "cell_type": "code",
     "collapsed": false,
     "input": [
      "# Useful for figures composed of multiple subplots\n",
      "fig = plt.figure()\n",
      "ax1 = fig.add_subplot(221)\n",
      "ax2 = fig.add_subplot(222)\n",
      "ax3 = fig.add_subplot(223)\n",
      "ax4 = fig.add_subplot(224)\n",
      "\n",
      "# Useful for figures with one subplot (ie the subplot is the figure)\n",
      "ax2 = plt.subplot(111)\n",
      "\n",
      "# Useful for overlaying axes, sharing the x axis\n",
      "ax3 = plt.twinx(ax2)"
     ],
     "language": "python",
     "metadata": {},
     "outputs": [],
     "prompt_number": 7
    },
    {
     "cell_type": "markdown",
     "metadata": {},
     "source": [
      "### Customizing your Plot\n",
      "\n",
      "Plot is pretty powerful, lets peruse the [MatPlotLib\n",
      "documentation](http://matplotlib.sourceforge.net).\n",
      "\n",
      "1.  By editing plot.py and referencing the documentation try to add a\n",
      "    label to an axis or change the color.\n",
      "2.  If you're feeling adventurous and you've successfully added a label,\n",
      "    try ax.legend()\n",
      "\n",
      "Hints:\n",
      "\n",
      "-   legend\n",
      "-   colors\n",
      "-   linestyles\n",
      "-   kwargs !\n",
      "\n",
      "Other Types of Line Plots\n",
      "=========================\n",
      "\n",
      "MatPlotLib as all the usual types of plots\n",
      "\n",
      "log-linear, linear-log, log-log\n",
      "-------------------------------"
     ]
    },
    {
     "cell_type": "code",
     "collapsed": false,
     "input": [],
     "language": "python",
     "metadata": {},
     "outputs": []
    },
    {
     "cell_type": "markdown",
     "metadata": {},
     "source": [
      "Execute ax.semilogx(range(1,11),range(10)) within your script instead of\n",
      "ax.plot(x) and run it again to see the effect.\n",
      "\n",
      "Contour plots and pcolor\n",
      "------------------------\n",
      "\n",
      "Notice that for the z argument to pcolor is shorter by one in both\n",
      "directions. You should think of z as being defined zone centered. If you\n",
      "forget to do so, it will drop the last row and column."
     ]
    },
    {
     "cell_type": "code",
     "collapsed": false,
     "input": [
      "from matplotlib import pyplot as plt\n",
      "import numpy as np\n",
      "\n",
      "r = np.linspace(0.1,2,200)\n",
      "t = np.linspace(np.pi/4,7*np.pi/4,200)\n",
      "r,t = np.meshgrid(r,t)\n",
      "x = r*np.cos(t)\n",
      "y = r*np.sin(t)\n",
      "z = (x+0.6)**2 + (y-1.)**2\n",
      "\n",
      "ax = plt.subplot(111)\n",
      "\n",
      "ax.pcolor(x,y,z[1:,1:])\n",
      "# ax.colorbar()\n",
      "\n",
      "con = ax.contour(x,y,z)\n",
      "ax.clabel(con)\n",
      "\n",
      "plt.draw()\n",
      "plt.show()"
     ],
     "language": "python",
     "metadata": {},
     "outputs": [],
     "prompt_number": 17
    },
    {
     "cell_type": "markdown",
     "metadata": {},
     "source": [
      "`draw()` vs `show()`\n",
      "--------------------\n",
      "\n",
      "By default, MatPlotLib starts in non-interactive-mode.  This means that plots will not render until you explicitly call `show()`.  Additionally, `show()` blocks the Python interpreter from doing anything else until the figure is closed.  This helps matplotlib render efficiently, but often we are more interested in using *my* time efficiently rather than the computers.\n",
      "\n",
      "To make life easier, IPython provides a `%matplotlib` \"magic\" function that activates matplotlib's \"interactive mode\" and starts a separate figure interact thread so plotting figures does not block the interpreter.  In this mode, most commands in the `pyplot` namespace should trigger a re-draw.  Modifying the figures using the object-oriented interface may not trigger a figure re-draw.  In this case, one can manually trigger a redraw with the `plt.draw()` command.\n",
      "\n",
      "\n",
      "How do I make a plot like ... ?\n",
      "===============================\n",
      "\n",
      "MatPlotLib has an extensive\n",
      "[gallery](http://matplotlib.sourceforge.net/gallery.html) of plots with\n",
      "source code. Take a look through those; they probably have something\n",
      "similar to what you want to do. If you click on one of these images, you'll\n",
      "land on a page with the source that created it. Recently, I've noticed that\n",
      "the server has been throttling my traffic. If you see one you like but get\n",
      "a \"Too many requests warning\" go to the matplotlib github repository\n",
      "(https://github.com/matplotlib/matplotlib/tree/master/examples/pylab_examples)\n",
      "and look for the source code there."
     ]
    }
   ],
   "metadata": {}
  }
 ]
}